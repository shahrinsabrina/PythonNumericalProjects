{
  "nbformat": 4,
  "nbformat_minor": 0,
  "metadata": {
    "colab": {
      "provenance": [],
      "authorship_tag": "ABX9TyO15MPKZeOCIB3DskMygCt0",
      "include_colab_link": true
    },
    "kernelspec": {
      "name": "python3",
      "display_name": "Python 3"
    },
    "language_info": {
      "name": "python"
    }
  },
  "cells": [
    {
      "cell_type": "markdown",
      "metadata": {
        "id": "view-in-github",
        "colab_type": "text"
      },
      "source": [
        "<a href=\"https://colab.research.google.com/github/shahrinsabrina/PythonNumericalProjects/blob/main/Ground_State_Energy_of_the_1D_Quantum_Harmonic_Oscillator.ipynb\" target=\"_parent\"><img src=\"https://colab.research.google.com/assets/colab-badge.svg\" alt=\"Open In Colab\"/></a>"
      ]
    },
    {
      "cell_type": "markdown",
      "metadata": {
        "id": "bb0d07da"
      },
      "source": [
        "# Sabrina Shahrin Rashid\n",
        "Reg. No: 2016132069\n",
        "\n",
        "## Assignment – 2, Computational Physics\n",
        "\n",
        "### Calculating the Ground State Energy of the 1D Quantum Harmonic Oscillator by Variational Quantum Monte Carlo (VMC)"
      ]
    },
    {
      "cell_type": "markdown",
      "source": [
        "## Objective\n",
        "The objective of this project is to use the **Variational Quantum Monte Carlo (VMC)** method to estimate the ground-state energy of the one-dimensional quantum harmonic oscillator (QHO). By employing a Gaussian trial wavefunction with a variational parameter \\(\\alpha\\), the energy is minimized using Monte Carlo sampling. The project demonstrates the effectiveness of VMC in solving quantum mechanical problems that cannot be easily solved analytically.\n"
      ],
      "metadata": {
        "id": "D7CBHTWpPpp6"
      }
    },
    {
      "cell_type": "markdown",
      "source": [
        "## Theory and Background\n",
        "The Hamiltonian of the one-dimensional harmonic oscillator is\n",
        "\n",
        "\\[\n",
        "\\hat{H} = -\\frac{1}{2}\\frac{d^2}{dx^2} + \\frac{1}{2}x^2.\n",
        "\\]\n",
        "\n",
        "We choose a Gaussian trial wavefunction with variational parameter \\(\\alpha\\):\n",
        "\n",
        "\\[\n",
        "\\psi_T(x;\\alpha) = e^{-\\frac{1}{2}\\alpha x^2}.\n",
        "\\]\n",
        "\n",
        "The **local energy** is defined as\n",
        "\n",
        "\\[\n",
        "E_\\text{loc}(x;\\alpha) = \\frac{1}{\\psi_T}\\hat H \\psi_T\n",
        "= \\frac{1}{2}\\alpha + \\frac{1}{2}(1-\\alpha^2)x^2.\n",
        "\\]\n",
        "\n",
        "The variational principle guarantees that\n",
        "\n",
        "\\[\n",
        "E(\\alpha) = \\langle E_\\text{loc}(x;\\alpha) \\rangle \\geq E_0,\n",
        "\\]\n",
        "\n",
        "where \\(E_0\\) is the exact ground-state energy. For the QHO, \\(E_0 = 0.5\\) (with \\(\\hbar=m=\\omega=1\\)).\n"
      ],
      "metadata": {
        "id": "p9CiyVQMPsFL"
      }
    },
    {
      "cell_type": "markdown",
      "source": [
        "## Problem Statement\n",
        "We use the Variational Quantum Monte Carlo method to:\n",
        "1. Sample configurations \\(x\\) using the Metropolis algorithm for probability \\(P(x;\\alpha) \\propto |\\psi_T(x;\\alpha)|^2\\).\n",
        "2. Compute local energy values for each configuration.\n",
        "3. Estimate the expectation value of energy for each \\(\\alpha\\).\n",
        "4. Scan across \\(\\alpha\\) values to find the best variational parameter.\n",
        "5. Plot results:  \n",
        "   - Energy vs \\(\\alpha\\) with error bars.  \n",
        "   - Histogram of sampled positions compared with the analytical distribution.  \n"
      ],
      "metadata": {
        "id": "mfEDhkNSPv-T"
      }
    },
    {
      "cell_type": "markdown",
      "source": [
        "## Methodology\n",
        "- Initialize trial wavefunction parameter \\(\\alpha\\).  \n",
        "- Use Metropolis sampling to generate a sequence of \\(x\\)-values distributed according to \\(P(x;\\alpha)\\).  \n",
        "- Calculate the local energy for each sampled \\(x\\).  \n",
        "- Average the local energies to approximate the variational energy.  \n",
        "- Repeat for multiple \\(\\alpha\\) values to determine which minimizes the energy.  \n",
        "- Plot energy vs \\(\\alpha\\) and compare with the exact ground-state energy.  \n"
      ],
      "metadata": {
        "id": "3mJ3jl_KPyqC"
      }
    },
    {
      "cell_type": "code",
      "source": [
        "# Python Implementation of VMC for 1D Harmonic Oscillator\n",
        "\n",
        "import numpy as np\n",
        "import matplotlib.pyplot as plt\n",
        "\n",
        "# -----------------------\n",
        "# Parameters\n",
        "# -----------------------\n",
        "alpha_values = np.linspace(0.6, 1.4, 15)  # variational parameters\n",
        "n_steps = 100000         # total Metropolis steps\n",
        "burn_in = 10000          # discard initial samples\n",
        "step_size = 1.0          # step size for proposals\n",
        "np.random.seed(42)       # reproducibility\n",
        "\n",
        "# -----------------------\n",
        "# Local energy function\n",
        "# -----------------------\n",
        "def local_energy(x, alpha):\n",
        "    return 0.5 * alpha + 0.5 * (1 - alpha**2) * x**2\n",
        "\n",
        "# -----------------------\n",
        "# Metropolis sampling\n",
        "# -----------------------\n",
        "def metropolis(alpha, n_steps, burn_in, step_size):\n",
        "    x = 0.0\n",
        "    samples = []\n",
        "    accept = 0\n",
        "    for i in range(n_steps):\n",
        "        x_prop = x + np.random.uniform(-step_size, step_size)\n",
        "        prob_ratio = np.exp(-alpha * (x_prop**2 - x**2))\n",
        "        if prob_ratio >= 1 or np.random.rand() < prob_ratio:\n",
        "            x = x_prop\n",
        "            accept += 1\n",
        "        if i >= burn_in:\n",
        "            samples.append(x)\n",
        "    return np.array(samples), accept/n_steps\n",
        "\n",
        "# -----------------------\n",
        "# Energy estimation\n",
        "# -----------------------\n",
        "energies = []\n",
        "errors = []\n",
        "\n",
        "for alpha in alpha_values:\n",
        "    samples, acc_rate = metropolis(alpha, n_steps, burn_in, step_size)\n",
        "    E_loc = local_energy(samples, alpha)\n",
        "    mean_E = np.mean(E_loc)\n",
        "    std_E = np.std(E_loc) / np.sqrt(len(E_loc))\n",
        "    energies.append(mean_E)\n",
        "    errors.append(std_E)\n",
        "    print(f\"alpha={alpha:.2f} -> E={mean_E:.5f} ± {std_E:.5f}, acceptance={acc_rate:.2f}\")\n",
        "\n",
        "energies = np.array(energies)\n",
        "errors = np.array(errors)\n",
        "\n",
        "best_idx = np.argmin(energies)\n",
        "print(\"\\nBest alpha:\", alpha_values[best_idx])\n",
        "print(\"Estimated ground-state energy:\", energies[best_idx], \"±\", errors[best_idx])\n"
      ],
      "metadata": {
        "colab": {
          "base_uri": "https://localhost:8080/"
        },
        "id": "gTH8EghrP0Le",
        "outputId": "5ba7bd0d-903c-4625-e30f-cfeff9cb37f6"
      },
      "execution_count": 4,
      "outputs": [
        {
          "output_type": "stream",
          "name": "stdout",
          "text": [
            "alpha=0.60 -> E=0.56365 ± 0.00126, acceptance=0.79\n",
            "alpha=0.66 -> E=0.54357 ± 0.00102, acceptance=0.78\n",
            "alpha=0.71 -> E=0.52487 ± 0.00080, acceptance=0.77\n",
            "alpha=0.77 -> E=0.51948 ± 0.00063, acceptance=0.76\n",
            "alpha=0.83 -> E=0.50903 ± 0.00045, acceptance=0.75\n",
            "alpha=0.89 -> E=0.50446 ± 0.00029, acceptance=0.74\n",
            "alpha=0.94 -> E=0.50048 ± 0.00014, acceptance=0.74\n",
            "alpha=1.00 -> E=0.50000 ± 0.00000, acceptance=0.73\n",
            "alpha=1.06 -> E=0.50061 ± 0.00013, acceptance=0.72\n",
            "alpha=1.11 -> E=0.50357 ± 0.00025, acceptance=0.71\n",
            "alpha=1.17 -> E=0.50753 ± 0.00037, acceptance=0.71\n",
            "alpha=1.23 -> E=0.51071 ± 0.00050, acceptance=0.70\n",
            "alpha=1.29 -> E=0.51668 ± 0.00060, acceptance=0.70\n",
            "alpha=1.34 -> E=0.52229 ± 0.00070, acceptance=0.69\n",
            "alpha=1.40 -> E=0.52848 ± 0.00082, acceptance=0.69\n",
            "\n",
            "Best alpha: 1.0\n",
            "Estimated ground-state energy: 0.5 ± 0.0\n"
          ]
        }
      ]
    },
    {
      "cell_type": "code",
      "source": [
        "# Python Implementation of VMC for 1D Harmonic Oscillator\n",
        "\n",
        "import numpy as np\n",
        "import matplotlib.pyplot as plt\n",
        "\n",
        "# -----------------------\n",
        "# Parameters\n",
        "# -----------------------\n",
        "alpha_values = np.linspace(0.6, 1.4, 15)  # variational parameters\n",
        "n_steps = 100000         # total Metropolis steps\n",
        "burn_in = 10000          # discard initial samples\n",
        "step_size = 1.0          # step size for proposals\n",
        "np.random.seed(42)       # reproducibility\n",
        "\n",
        "# -----------------------\n",
        "# Local energy function\n",
        "# -----------------------\n",
        "def local_energy(x, alpha):\n",
        "    return 0.5 * alpha + 0.5 * (1 - alpha**2) * x**2\n",
        "\n",
        "# -----------------------\n",
        "# Metropolis sampling\n",
        "# -----------------------\n",
        "def metropolis(alpha, n_steps, burn_in, step_size):\n",
        "    x = 0.0\n",
        "    samples = []\n",
        "    accept = 0\n",
        "    for i in range(n_steps):\n",
        "        x_prop = x + np.random.uniform(-step_size, step_size)\n",
        "        prob_ratio = np.exp(-alpha * (x_prop**2 - x**2))\n",
        "        if prob_ratio >= 1 or np.random.rand() < prob_ratio:\n",
        "            x = x_prop\n",
        "            accept += 1\n",
        "        if i >= burn_in:\n",
        "            samples.append(x)\n",
        "    return np.array(samples), accept/n_steps\n",
        "\n",
        "# -----------------------\n",
        "# Energy estimation\n",
        "# -----------------------\n",
        "energies = []\n",
        "errors = []\n",
        "\n",
        "for alpha in alpha_values:\n",
        "    samples, acc_rate = metropolis(alpha, n_steps, burn_in, step_size)\n",
        "    E_loc = local_energy(samples, alpha)\n",
        "    mean_E = np.mean(E_loc)\n",
        "    std_E = np.std(E_loc) / np.sqrt(len(E_loc))\n",
        "    energies.append(mean_E)\n",
        "    errors.append(std_E)\n",
        "    print(f\"alpha={alpha:.2f} -> E={mean_E:.5f} ± {std_E:.5f}, acceptance={acc_rate:.2f}\")\n",
        "\n",
        "energies = np.array(energies)\n",
        "errors = np.array(errors)\n",
        "\n",
        "best_idx = np.argmin(energies)\n",
        "print(\"\\nBest alpha:\", alpha_values[best_idx])\n",
        "print(\"Estimated ground-state energy:\", energies[best_idx], \"±\", errors[best_idx])\n"
      ],
      "metadata": {
        "colab": {
          "base_uri": "https://localhost:8080/"
        },
        "id": "Wb7ZWSd7P3QL",
        "outputId": "1ba8399a-1ccc-4f0c-cb67-c8526b16eeec"
      },
      "execution_count": 5,
      "outputs": [
        {
          "output_type": "stream",
          "name": "stdout",
          "text": [
            "alpha=0.60 -> E=0.56365 ± 0.00126, acceptance=0.79\n",
            "alpha=0.66 -> E=0.54357 ± 0.00102, acceptance=0.78\n",
            "alpha=0.71 -> E=0.52487 ± 0.00080, acceptance=0.77\n",
            "alpha=0.77 -> E=0.51948 ± 0.00063, acceptance=0.76\n",
            "alpha=0.83 -> E=0.50903 ± 0.00045, acceptance=0.75\n",
            "alpha=0.89 -> E=0.50446 ± 0.00029, acceptance=0.74\n",
            "alpha=0.94 -> E=0.50048 ± 0.00014, acceptance=0.74\n",
            "alpha=1.00 -> E=0.50000 ± 0.00000, acceptance=0.73\n",
            "alpha=1.06 -> E=0.50061 ± 0.00013, acceptance=0.72\n",
            "alpha=1.11 -> E=0.50357 ± 0.00025, acceptance=0.71\n",
            "alpha=1.17 -> E=0.50753 ± 0.00037, acceptance=0.71\n",
            "alpha=1.23 -> E=0.51071 ± 0.00050, acceptance=0.70\n",
            "alpha=1.29 -> E=0.51668 ± 0.00060, acceptance=0.70\n",
            "alpha=1.34 -> E=0.52229 ± 0.00070, acceptance=0.69\n",
            "alpha=1.40 -> E=0.52848 ± 0.00082, acceptance=0.69\n",
            "\n",
            "Best alpha: 1.0\n",
            "Estimated ground-state energy: 0.5 ± 0.0\n"
          ]
        }
      ]
    },
    {
      "cell_type": "code",
      "source": [
        "# Plot sampled distribution vs analytic distribution for best alpha\n",
        "best_alpha = alpha_values[best_idx]\n",
        "samples, _ = metropolis(best_alpha, n_steps, burn_in, step_size)\n",
        "\n",
        "x_vals = np.linspace(-4, 4, 400)\n",
        "pdf_analytic = np.sqrt(best_alpha/np.pi) * np.exp(-best_alpha * x_vals**2)\n",
        "\n",
        "plt.hist(samples, bins=100, density=True, alpha=0.6, label=\"Sampled Distribution\")\n",
        "plt.plot(x_vals, pdf_analytic, 'r-', lw=2, label=\"Analytic |ψ|²\")\n",
        "plt.xlabel(\"x\")\n",
        "plt.ylabel(\"Probability Density\")\n",
        "plt.title(f\"Sampled vs Analytic Distribution (α={best_alpha:.2f})\")\n",
        "plt.legend()\n",
        "plt.grid(True)\n",
        "plt.show()\n"
      ],
      "metadata": {
        "colab": {
          "base_uri": "https://localhost:8080/",
          "height": 472
        },
        "id": "YMhnFVSaP6IM",
        "outputId": "67ab9210-2c32-4e25-c7a5-2200ca0489f0"
      },
      "execution_count": 6,
      "outputs": [
        {
          "output_type": "display_data",
          "data": {
            "text/plain": [
              "<Figure size 640x480 with 1 Axes>"
            ],
            "image/png": "[encoded data removed]"
          },
          "metadata": {}
        }
      ]
    },
    {
      "cell_type": "markdown",
      "source": [
        "## Results\n",
        "- The simulation shows that the energy is minimized near \\(\\alpha \\approx 1.0\\).\n",
        "- The estimated ground-state energy is very close to the exact result \\(E_0 = 0.5\\).\n",
        "- The histogram of sampled positions matches the analytical distribution \\(|\\psi(x)|^2\\).\n"
      ],
      "metadata": {
        "id": "YJ8Hqwy-P8aO"
      }
    },
    {
      "cell_type": "markdown",
      "source": [
        "## Discussion\n",
        "- The VMC method works well because the Gaussian trial wavefunction includes the exact ground-state solution.  \n",
        "- Small statistical errors are observed due to finite sampling.  \n",
        "- Autocorrelation effects can reduce efficiency, but thinning or longer runs can improve accuracy.  \n",
        "- Step size tuning is important for balancing acceptance rate (ideal ~40–60%).  \n"
      ],
      "metadata": {
        "id": "K3hzBgUFP-I8"
      }
    },
    {
      "cell_type": "markdown",
      "source": [
        "## Conclusion\n",
        "The Variational Quantum Monte Carlo method successfully estimated the ground-state energy of the quantum harmonic oscillator. The results closely match the exact solution, validating the effectiveness of the approach. This method can now be extended to more complex systems where exact solutions are not known.\n"
      ],
      "metadata": {
        "id": "hVaO7RXRQAUF"
      }
    },
    {
      "cell_type": "markdown",
      "source": [
        "## References\n",
        "- C. J. Umrigar, Variational Monte Carlo Methods (lecture notes)  \n",
        "- D. M. Ceperley, \"Path integrals in the theory of condensed helium,\" *Rev. Mod. Phys.*  \n",
        "- K. E. Atkinson, *An Introduction to Numerical Analysis*  \n",
        "- Python NumPy & Matplotlib Documentation  \n"
      ],
      "metadata": {
        "id": "GA-32sp5QCSk"
      }
    }
  ]
}